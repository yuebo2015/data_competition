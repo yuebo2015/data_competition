{
 "cells": [
  {
   "cell_type": "markdown",
   "metadata": {
    "collapsed": true
   },
   "source": [
    "# 1 pandas基本介绍\n",
    "numpy类比于list，pandas类比于dict；"
   ]
  },
  {
   "cell_type": "markdown",
   "metadata": {},
   "source": [
    "**建立DataFrame**"
   ]
  },
  {
   "cell_type": "code",
   "execution_count": null,
   "metadata": {},
   "outputs": [],
   "source": [
    "import pandas as pd\n",
    "import numpy as np\n",
    "\n",
    "# Series给list加上index，Series可以看作是一条DataFrame记录\n",
    "s = pd.Series([1, 3, 6, np.nan, 44, 1])\n",
    "# print(s)\n",
    "\n",
    "dates = pd.date_range('20210410', periods=6)\n",
    "# print(dates)\n",
    "\n",
    "# 指定row: index, columns: columns\n",
    "df = pd.DataFrame(np.random.randn(6, 4), index=dates, columns=['a', 'b', 'c', 'd'])\n",
    "# display(df)\n",
    "\n",
    "# 默认状态下的index和columns\n",
    "df1 = pd.DataFrame(np.arange(12).reshape((3, 4)))\n",
    "# display(df1)\n",
    "\n",
    "# 字典转化为DataFrame，这里更能体现出DataFrame和dict的类似\n",
    "df2 = pd.DataFrame({'A': 1.,\n",
    "                   'B': pd.Timestamp('20210410'),\n",
    "                   'C': pd.Series(1, index=list(range(4))),\n",
    "                   'D': np.array([3] * 4, dtype='int32'),\n",
    "                   'E': pd.Categorical(['test', 'train', 'test', 'train']),\n",
    "                   'F': 'foo'})\n",
    "display(df2)\n"
   ]
  },
  {
   "cell_type": "markdown",
   "metadata": {},
   "source": [
    "**查看属性**"
   ]
  },
  {
   "cell_type": "code",
   "execution_count": null,
   "metadata": {},
   "outputs": [],
   "source": [
    "# 查看每个属性的数据类型，这里和mysql数据又类似\n",
    "# display(df2.dtypes)\n",
    "\n",
    "# 查看index\n",
    "# display(df2.index)\n",
    "\n",
    "# 查看columns\n",
    "# display(df2.columns)\n",
    "\n",
    "# 查看values\n",
    "# display(df2.values)\n",
    "\n",
    "# 查看一些统计特性，只运算数字的形式，忽略非数字\n",
    "# display(df2.describe())\n"
   ]
  },
  {
   "cell_type": "markdown",
   "metadata": {},
   "source": [
    "**基本操作**"
   ]
  },
  {
   "cell_type": "code",
   "execution_count": null,
   "metadata": {},
   "outputs": [],
   "source": [
    "# 转置，index、column互换\n",
    "# display(df2.T)\n",
    "\n",
    "# 对column名进行倒序排序\n",
    "# display(df2.sort_index(axis=1, ascending=False))\n",
    "\n",
    "# 对index名进行倒序排序\n",
    "# display(df2.sort_index(axis=0, ascending=False))\n",
    "\n",
    "# 根据某一列的值对记录进行排序，\n",
    "display(df2.sort_values(by='E', ascending=False))"
   ]
  },
  {
   "cell_type": "markdown",
   "metadata": {},
   "source": [
    "# 2 pandas选择数据"
   ]
  },
  {
   "cell_type": "code",
   "execution_count": null,
   "metadata": {},
   "outputs": [],
   "source": [
    "import pandas as pd\n",
    "import numpy as np"
   ]
  },
  {
   "cell_type": "code",
   "execution_count": null,
   "metadata": {},
   "outputs": [],
   "source": [
    "dates = pd.date_range('20210410', periods=6)\n",
    "df1 = pd.DataFrame(np.arange(24).reshape((6, 4)), index=dates, columns=['A', 'B', 'C', 'D'])\n",
    "\n",
    "display(df1)\n",
    "\n",
    "# 按照列的方式，此时可以看作是dict\n",
    "# display(df1['A'])\n",
    "# display(df1.A)\n",
    "\n",
    "# 按照行的方式进行，此时可以看作是list\n",
    "# display(df1[0:3]) # 直接选择行，前闭后开\n",
    "# display(df1['2021-04-10':'2021-04-12']) #按照索引排序，前闭后闭\n",
    "\n",
    "# 行列组合的方式，select by label:loc\n",
    "# display(df1.loc['2021-04-10'])\n",
    "# display(df1.loc[:, ['A', 'B']])\n",
    "\n",
    "# 行列组合的方式，select by position: iloc\n",
    "# display(df1.iloc[3, :]) # row 3\n",
    "# display(df1.iloc[3, 1])\n",
    "# display(df1.iloc[3:5, 1:2])\n",
    "# display(df1.iloc[[1, 3, 5], 1:3])\n",
    "\n",
    "# Boolean indexing，看作list\n",
    "display(df1.A > 8)\n",
    "display(df1[df1.A > 8])\n",
    "\n"
   ]
  },
  {
   "cell_type": "markdown",
   "metadata": {},
   "source": [
    "# 3 pandas设置值"
   ]
  },
  {
   "cell_type": "code",
   "execution_count": null,
   "metadata": {},
   "outputs": [],
   "source": [
    "import pandas as pd\n",
    "import numpy as np"
   ]
  },
  {
   "cell_type": "code",
   "execution_count": null,
   "metadata": {},
   "outputs": [],
   "source": [
    "dates = pd.date_range('20210410', periods=6)\n",
    "df1 = pd.DataFrame(np.arange(24).reshape((6, 4)), index=dates, columns=['A', 'B', 'C', 'D'])\n",
    "\n",
    "display(df1)"
   ]
  },
  {
   "cell_type": "code",
   "execution_count": null,
   "metadata": {},
   "outputs": [],
   "source": [
    "# by position\n",
    "# df1.iloc[2, 2] = 666\n",
    "# display(df1)\n",
    "\n",
    "# by label\n",
    "# df1.loc['2021-04-10', 'A'] = 666\n",
    "# display(df1)\n",
    "\n",
    "# 通过A去改变B\n",
    "# df1.B[df1.A > 4] = 0\n",
    "# display(df1)\n",
    "\n",
    "# 添加一列\n",
    "# df1['F'] = np.nan\n",
    "# display(df1)\n",
    "\n",
    "# 添加一列\n",
    "df1['E'] = pd.Series(np.arange(6), index=pd.date_range('20210410', periods=6))\n",
    "display(df1)"
   ]
  },
  {
   "cell_type": "markdown",
   "metadata": {},
   "source": [
    "# 4 pandas处理丢失数据"
   ]
  },
  {
   "cell_type": "code",
   "execution_count": null,
   "metadata": {},
   "outputs": [],
   "source": [
    "import pandas as pd\n",
    "import numpy as np\n",
    "\n",
    "dates = pd.date_range('20210410', periods=6)\n",
    "df1 = pd.DataFrame(np.arange(24).reshape((6, 4)), index=dates, columns=['A', 'B', 'C', 'D'])\n",
    "df1.iloc[0, 1] = np.nan\n",
    "df1.iloc[1, 2] = np.nan\n",
    "display(df1)"
   ]
  },
  {
   "cell_type": "code",
   "execution_count": null,
   "metadata": {},
   "outputs": [],
   "source": [
    "# 如果在一条记录中存在nan，这drop这一行的记录\n",
    "# display(df1.dropna(axis=0))\n",
    "\n",
    "# 如果在一列值中存在nan，这drop这一列\n",
    "# display(df1.dropna(axis=1))\n",
    "\n",
    "# how = {'any', 'all'},‘any'出现一个nan就删到整个记录（默认）\n",
    "# all所有的一行都是nan则删除掉这一行的记录\n",
    "# display(df1.dropna(axis=0, how='any'))\n",
    "\n",
    "# 填充nan值\n",
    "# print(df1.fillna(value=888))\n",
    "\n",
    "# 检测确缺失值\n",
    "# print(df1.isnull())\n",
    "# 至少存在一个缺失值\n",
    "print(np.any(df1.isnull() == True))"
   ]
  },
  {
   "cell_type": "markdown",
   "metadata": {},
   "source": [
    "# 5 pandas 导入导出"
   ]
  },
  {
   "cell_type": "code",
   "execution_count": null,
   "metadata": {},
   "outputs": [],
   "source": [
    "import pandas as pd\n",
    "import numpy as np"
   ]
  },
  {
   "cell_type": "code",
   "execution_count": null,
   "metadata": {},
   "outputs": [],
   "source": [
    "# 默认会加上索引\n",
    "data = pd.read_csv('./pandas_data/student.csv')\n",
    "display(data)\n",
    "data.to_csv('./pandas_data/student_copy.csv', index=None)"
   ]
  },
  {
   "cell_type": "markdown",
   "metadata": {},
   "source": [
    "# 6 pandas合并concat\n",
    "作用是直接把记录或者属性合并，是一种矩阵形状上的堆砌，形状不一样采用广播机制"
   ]
  },
  {
   "cell_type": "code",
   "execution_count": null,
   "metadata": {},
   "outputs": [],
   "source": [
    "import pandas as pd\n",
    "import numpy as np"
   ]
  },
  {
   "cell_type": "code",
   "execution_count": null,
   "metadata": {},
   "outputs": [],
   "source": [
    "# concatenating\n",
    "df1 = pd.DataFrame(np.ones((3,4))*0, columns=['a','b','c','d'])\n",
    "df2 = pd.DataFrame(np.ones((3,4))*1, columns=['a','b','c','d'])\n",
    "df3 = pd.DataFrame(np.ones((3,4))*2, columns=['a','b','c','d'])\n",
    "display(df1, df2, df3)"
   ]
  },
  {
   "cell_type": "code",
   "execution_count": null,
   "metadata": {},
   "outputs": [],
   "source": [
    "# 实际中是上下的合并\n",
    "# res = pd.concat([df1, df2, df3], axis=0)\n",
    "# 从这里发现索引是可以重复的\n",
    "# display(res)\n",
    "\n",
    "# 忽略之前的索引，重新加上默认索引1、2、3，...\n",
    "# res = pd.concat([df1, df2, df3], ignore_index=True)\n",
    "# display(res)\n",
    "\n"
   ]
  },
  {
   "cell_type": "code",
   "execution_count": null,
   "metadata": {},
   "outputs": [],
   "source": [
    "# join: ['inner', 'outer']\n",
    "df1 = pd.DataFrame(np.ones((3,4))*0, columns=['a','b','c','d'], index=[1,2,3])\n",
    "df2 = pd.DataFrame(np.ones((3,4))*1, columns=['b','c','d', 'e'], index=[2,3,4])\n",
    "display(df1, df2)\n",
    "\n",
    "# 默认outer，缺失的部分填充nan，并集\n",
    "# res = pd.concat([df1, df2], join='outer')\n",
    "# display(res)\n",
    "\n",
    "# 丢掉缺失的部分，交集\n",
    "# res = pd.concat([df1, df2], join='inner')\n",
    "# display(res)\n",
    "\n",
    "# res = pd.concat([df1, df2], axis=1) # 缺少的部分互相填充\n",
    "# display(res)\n"
   ]
  },
  {
   "cell_type": "code",
   "execution_count": null,
   "metadata": {},
   "outputs": [],
   "source": [
    "# append\n",
    "df1 = pd.DataFrame(np.ones((3,4))*0, columns=['a','b','c','d'])\n",
    "df2 = pd.DataFrame(np.ones((3,4))*1, columns=['a','b','c','d'])\n",
    "df3 = pd.DataFrame(np.ones((3,4))*1, columns=['b','c','d', 'e'], index=[2,3,4])\n",
    "display(df1, df2, df3)\n",
    "\n",
    "# 把df2加到df1后边\n",
    "# res = df1.append(df2, ignore_index=True)\n",
    "# display(res)\n",
    "\n",
    "# 添加两个df\n",
    "# res = df1.append([df1, df2], ignore_index=True)\n",
    "# display(res)\n",
    "\n",
    "# 每收集到一条记录就添加到df中\n",
    "s1 = pd.Series([1, 2, 3, 4], index=['a', 'b', 'c', 'd'])\n",
    "res = df1.append(s1, ignore_index=True)\n",
    "display(res)"
   ]
  },
  {
   "cell_type": "markdown",
   "metadata": {},
   "source": [
    "# 7 pands合并merge\n",
    "与cancat只考虑形状上的叠加不同，merge考虑的内容上的合并，此时就要考虑key了，key可以是index、也可以是columns，这一点和数据库非常相似了。"
   ]
  },
  {
   "cell_type": "code",
   "execution_count": 143,
   "metadata": {},
   "outputs": [],
   "source": [
    "import numpy as np\n",
    "import pandas as pd"
   ]
  },
  {
   "cell_type": "code",
   "execution_count": 171,
   "metadata": {},
   "outputs": [
    {
     "data": {
      "text/html": [
       "<div>\n",
       "<style scoped>\n",
       "    .dataframe tbody tr th:only-of-type {\n",
       "        vertical-align: middle;\n",
       "    }\n",
       "\n",
       "    .dataframe tbody tr th {\n",
       "        vertical-align: top;\n",
       "    }\n",
       "\n",
       "    .dataframe thead th {\n",
       "        text-align: right;\n",
       "    }\n",
       "</style>\n",
       "<table border=\"1\" class=\"dataframe\">\n",
       "  <thead>\n",
       "    <tr style=\"text-align: right;\">\n",
       "      <th></th>\n",
       "      <th>k</th>\n",
       "      <th>age</th>\n",
       "    </tr>\n",
       "  </thead>\n",
       "  <tbody>\n",
       "    <tr>\n",
       "      <th>0</th>\n",
       "      <td>K0</td>\n",
       "      <td>1</td>\n",
       "    </tr>\n",
       "    <tr>\n",
       "      <th>1</th>\n",
       "      <td>K1</td>\n",
       "      <td>2</td>\n",
       "    </tr>\n",
       "    <tr>\n",
       "      <th>2</th>\n",
       "      <td>K2</td>\n",
       "      <td>3</td>\n",
       "    </tr>\n",
       "  </tbody>\n",
       "</table>\n",
       "</div>"
      ],
      "text/plain": [
       "    k  age\n",
       "0  K0    1\n",
       "1  K1    2\n",
       "2  K2    3"
      ]
     },
     "metadata": {},
     "output_type": "display_data"
    },
    {
     "data": {
      "text/html": [
       "<div>\n",
       "<style scoped>\n",
       "    .dataframe tbody tr th:only-of-type {\n",
       "        vertical-align: middle;\n",
       "    }\n",
       "\n",
       "    .dataframe tbody tr th {\n",
       "        vertical-align: top;\n",
       "    }\n",
       "\n",
       "    .dataframe thead th {\n",
       "        text-align: right;\n",
       "    }\n",
       "</style>\n",
       "<table border=\"1\" class=\"dataframe\">\n",
       "  <thead>\n",
       "    <tr style=\"text-align: right;\">\n",
       "      <th></th>\n",
       "      <th>k</th>\n",
       "      <th>age</th>\n",
       "    </tr>\n",
       "  </thead>\n",
       "  <tbody>\n",
       "    <tr>\n",
       "      <th>0</th>\n",
       "      <td>K0</td>\n",
       "      <td>4</td>\n",
       "    </tr>\n",
       "    <tr>\n",
       "      <th>1</th>\n",
       "      <td>K0</td>\n",
       "      <td>5</td>\n",
       "    </tr>\n",
       "    <tr>\n",
       "      <th>2</th>\n",
       "      <td>K3</td>\n",
       "      <td>6</td>\n",
       "    </tr>\n",
       "  </tbody>\n",
       "</table>\n",
       "</div>"
      ],
      "text/plain": [
       "    k  age\n",
       "0  K0    4\n",
       "1  K0    5\n",
       "2  K3    6"
      ]
     },
     "metadata": {},
     "output_type": "display_data"
    },
    {
     "data": {
      "text/html": [
       "<div>\n",
       "<style scoped>\n",
       "    .dataframe tbody tr th:only-of-type {\n",
       "        vertical-align: middle;\n",
       "    }\n",
       "\n",
       "    .dataframe tbody tr th {\n",
       "        vertical-align: top;\n",
       "    }\n",
       "\n",
       "    .dataframe thead th {\n",
       "        text-align: right;\n",
       "    }\n",
       "</style>\n",
       "<table border=\"1\" class=\"dataframe\">\n",
       "  <thead>\n",
       "    <tr style=\"text-align: right;\">\n",
       "      <th></th>\n",
       "      <th>k</th>\n",
       "      <th>age_boy</th>\n",
       "      <th>age_girl</th>\n",
       "    </tr>\n",
       "  </thead>\n",
       "  <tbody>\n",
       "    <tr>\n",
       "      <th>0</th>\n",
       "      <td>K0</td>\n",
       "      <td>1.0</td>\n",
       "      <td>4.0</td>\n",
       "    </tr>\n",
       "    <tr>\n",
       "      <th>1</th>\n",
       "      <td>K0</td>\n",
       "      <td>1.0</td>\n",
       "      <td>5.0</td>\n",
       "    </tr>\n",
       "    <tr>\n",
       "      <th>2</th>\n",
       "      <td>K1</td>\n",
       "      <td>2.0</td>\n",
       "      <td>NaN</td>\n",
       "    </tr>\n",
       "    <tr>\n",
       "      <th>3</th>\n",
       "      <td>K2</td>\n",
       "      <td>3.0</td>\n",
       "      <td>NaN</td>\n",
       "    </tr>\n",
       "    <tr>\n",
       "      <th>4</th>\n",
       "      <td>K3</td>\n",
       "      <td>NaN</td>\n",
       "      <td>6.0</td>\n",
       "    </tr>\n",
       "  </tbody>\n",
       "</table>\n",
       "</div>"
      ],
      "text/plain": [
       "    k  age_boy  age_girl\n",
       "0  K0      1.0       4.0\n",
       "1  K0      1.0       5.0\n",
       "2  K1      2.0       NaN\n",
       "3  K2      3.0       NaN\n",
       "4  K3      NaN       6.0"
      ]
     },
     "metadata": {},
     "output_type": "display_data"
    }
   ],
   "source": [
    "left = pd.DataFrame({'key': ['K0', 'K1', 'K2', 'K3'],\n",
    "                                  'A': ['A0', 'A1', 'A2', 'A3'],\n",
    "                                  'B': ['B0', 'B1', 'B2', 'B3']})\n",
    "right = pd.DataFrame({'key': ['K0', 'K1', 'K2', 'K3'],\n",
    "                                    'C': ['C0', 'C1', 'C2', 'C3'],\n",
    "                                    'D': ['D0', 'D1', 'D2', 'D3']})\n",
    "\n",
    "# display(left, right)\n",
    "\n",
    "# merging two df by key/keys. (may be used in database)\n",
    "# 这里的意思是将某一列作为key合并两个df的columns\n",
    "# res = pd.merge(left, right, on='key')\n",
    "# display(res)\n",
    "\n",
    "# consider two keys\n",
    "left = pd.DataFrame({'key1': ['K0', 'K0', 'K1', 'K2'],\n",
    "                             'key2': ['K0', 'K1', 'K0', 'K1'],\n",
    "                             'A': ['A0', 'A1', 'A2', 'A3'],\n",
    "                             'B': ['B0', 'B1', 'B2', 'B3']})\n",
    "right = pd.DataFrame({'key1': ['K0', 'K1', 'K1', 'K2'],\n",
    "                              'key2': ['K0', 'K0', 'K0', 'K0'],\n",
    "                              'C': ['C0', 'C1', 'C2', 'C3'],\n",
    "                              'D': ['D0', 'D1', 'D2', 'D3']})\n",
    "\n",
    "# display(left, right)\n",
    "\n",
    "# how=['left', 'right', 'outer', 'inner']\n",
    "# inner只考虑（key1、key2）相同的部分\n",
    "# outer不同的部分补充nan\n",
    "# left给予left这个df进行填充\n",
    "# res = pd.merge(left, right, on=['key1', 'key2'], how='left')\n",
    "# display(res)\n",
    "\n",
    "\n",
    "# indicator 指示合并的方式\n",
    "# df1 = pd.DataFrame({'col1':[0,1], 'col_left':['a','b']})\n",
    "# df2 = pd.DataFrame({'col1':[1,2,2],'col_right':[2,2,2]})\n",
    "# display(df1, df2)\n",
    "\n",
    "# res = pd.merge(df1, df2, on='col1', how='outer', indicator=True)\n",
    "# display(res)\n",
    "# give the indicator a custom name，自定义一个名字indicator_column而已\n",
    "# res = pd.merge(df1, df2, on='col1', how='outer', indicator='indicator_column')\n",
    "# display(res)\n",
    "\n",
    "\n",
    "\n",
    "# merged by index\n",
    "left = pd.DataFrame({'A': ['A0', 'A1', 'A2'],\n",
    "                                  'B': ['B0', 'B1', 'B2']},\n",
    "                                  index=['K0', 'K1', 'K2'])\n",
    "right = pd.DataFrame({'C': ['C0', 'C2', 'C3'],\n",
    "                                     'D': ['D0', 'D2', 'D3']},\n",
    "                                      index=['K0', 'K2', 'K3'])\n",
    "# display(left, right)\n",
    "# how = {'inner', 'outer', 'left', 'right'}\n",
    "# left以left这个df的index为主\n",
    "# res = pd.merge(left, right, left_index=True, right_index=True, how='left')\n",
    "# display(res)\n",
    "\n",
    "\n",
    "# handle overlapping，合并名字相同其实内涵不同的数据\n",
    "boys = pd.DataFrame({'k': ['K0', 'K1', 'K2'], 'age': [1, 2, 3]})\n",
    "girls = pd.DataFrame({'k': ['K0', 'K0', 'K3'], 'age': [4, 5, 6]})\n",
    "display(boys, girls)\n",
    "res = pd.merge(boys, girls, on='k', suffixes=['_boy', '_girl'], how='outer')\n",
    "display(res)"
   ]
  },
  {
   "cell_type": "markdown",
   "metadata": {},
   "source": [
    "# 8 pandas plot图表"
   ]
  },
  {
   "cell_type": "code",
   "execution_count": 173,
   "metadata": {},
   "outputs": [],
   "source": [
    "import numpy as np\n",
    "import pandas as pd\n",
    "import matplotlib.pylab as plt"
   ]
  },
  {
   "cell_type": "code",
   "execution_count": 195,
   "metadata": {
    "scrolled": true
   },
   "outputs": [
    {
     "data": {
      "text/html": [
       "<div>\n",
       "<style scoped>\n",
       "    .dataframe tbody tr th:only-of-type {\n",
       "        vertical-align: middle;\n",
       "    }\n",
       "\n",
       "    .dataframe tbody tr th {\n",
       "        vertical-align: top;\n",
       "    }\n",
       "\n",
       "    .dataframe thead th {\n",
       "        text-align: right;\n",
       "    }\n",
       "</style>\n",
       "<table border=\"1\" class=\"dataframe\">\n",
       "  <thead>\n",
       "    <tr style=\"text-align: right;\">\n",
       "      <th></th>\n",
       "      <th>A</th>\n",
       "      <th>B</th>\n",
       "      <th>C</th>\n",
       "      <th>D</th>\n",
       "    </tr>\n",
       "  </thead>\n",
       "  <tbody>\n",
       "    <tr>\n",
       "      <th>0</th>\n",
       "      <td>-0.770505</td>\n",
       "      <td>-0.473146</td>\n",
       "      <td>-0.841755</td>\n",
       "      <td>1.947571</td>\n",
       "    </tr>\n",
       "    <tr>\n",
       "      <th>1</th>\n",
       "      <td>-0.432946</td>\n",
       "      <td>0.306703</td>\n",
       "      <td>-2.284869</td>\n",
       "      <td>2.872893</td>\n",
       "    </tr>\n",
       "    <tr>\n",
       "      <th>2</th>\n",
       "      <td>-0.756249</td>\n",
       "      <td>0.877041</td>\n",
       "      <td>-1.622413</td>\n",
       "      <td>4.478464</td>\n",
       "    </tr>\n",
       "    <tr>\n",
       "      <th>3</th>\n",
       "      <td>0.176853</td>\n",
       "      <td>1.216123</td>\n",
       "      <td>-2.231792</td>\n",
       "      <td>5.050028</td>\n",
       "    </tr>\n",
       "    <tr>\n",
       "      <th>4</th>\n",
       "      <td>-0.828634</td>\n",
       "      <td>1.608152</td>\n",
       "      <td>-2.118417</td>\n",
       "      <td>5.746693</td>\n",
       "    </tr>\n",
       "    <tr>\n",
       "      <th>...</th>\n",
       "      <td>...</td>\n",
       "      <td>...</td>\n",
       "      <td>...</td>\n",
       "      <td>...</td>\n",
       "    </tr>\n",
       "    <tr>\n",
       "      <th>995</th>\n",
       "      <td>16.249967</td>\n",
       "      <td>36.263836</td>\n",
       "      <td>-5.643642</td>\n",
       "      <td>6.862159</td>\n",
       "    </tr>\n",
       "    <tr>\n",
       "      <th>996</th>\n",
       "      <td>17.174876</td>\n",
       "      <td>37.011468</td>\n",
       "      <td>-6.568087</td>\n",
       "      <td>6.674616</td>\n",
       "    </tr>\n",
       "    <tr>\n",
       "      <th>997</th>\n",
       "      <td>17.422750</td>\n",
       "      <td>35.977294</td>\n",
       "      <td>-7.212515</td>\n",
       "      <td>7.813418</td>\n",
       "    </tr>\n",
       "    <tr>\n",
       "      <th>998</th>\n",
       "      <td>18.874683</td>\n",
       "      <td>37.367888</td>\n",
       "      <td>-7.818039</td>\n",
       "      <td>7.271860</td>\n",
       "    </tr>\n",
       "    <tr>\n",
       "      <th>999</th>\n",
       "      <td>20.241470</td>\n",
       "      <td>37.894910</td>\n",
       "      <td>-8.713993</td>\n",
       "      <td>7.045441</td>\n",
       "    </tr>\n",
       "  </tbody>\n",
       "</table>\n",
       "<p>1000 rows × 4 columns</p>\n",
       "</div>"
      ],
      "text/plain": [
       "             A          B         C         D\n",
       "0    -0.770505  -0.473146 -0.841755  1.947571\n",
       "1    -0.432946   0.306703 -2.284869  2.872893\n",
       "2    -0.756249   0.877041 -1.622413  4.478464\n",
       "3     0.176853   1.216123 -2.231792  5.050028\n",
       "4    -0.828634   1.608152 -2.118417  5.746693\n",
       "..         ...        ...       ...       ...\n",
       "995  16.249967  36.263836 -5.643642  6.862159\n",
       "996  17.174876  37.011468 -6.568087  6.674616\n",
       "997  17.422750  35.977294 -7.212515  7.813418\n",
       "998  18.874683  37.367888 -7.818039  7.271860\n",
       "999  20.241470  37.894910 -8.713993  7.045441\n",
       "\n",
       "[1000 rows x 4 columns]"
      ]
     },
     "metadata": {},
     "output_type": "display_data"
    },
    {
     "data": {
      "text/plain": [
       "<AxesSubplot:xlabel='A', ylabel='C'>"
      ]
     },
     "execution_count": 195,
     "metadata": {},
     "output_type": "execute_result"
    },
    {
     "data": {
      "image/png": "[encoded data removed]",
      "text/plain": [
       "<Figure size 432x288 with 1 Axes>"
      ]
     },
     "metadata": {
      "needs_background": "light"
     },
     "output_type": "display_data"
    }
   ],
   "source": [
    "# Series\n",
    "# data = pd.Series(np.random.randn(1000), index=np.arange(1000))\n",
    "# 逐个累加到下一个数据\n",
    "# data = data.cumsum()\n",
    "# display(data)\n",
    "# data.plot()\n",
    "\n",
    "\n",
    "# DataFrame\n",
    "data = pd.DataFrame(np.random.randn(1000, 4), index=np.arange(1000), columns=list('ABCD'))\n",
    "data = data.cumsum()\n",
    "display(data)\n",
    "# data.plot()\n",
    "# plot methods:\n",
    "# 'bar', 'hist', 'box', 'kde', 'area', scatter', hexbin', 'pie'\n",
    "ax = data.plot.scatter(x='A', y='B', color='DarkBlue', label=\"Class 1\")\n",
    "data.plot.scatter(x='A', y='C', color='LightGreen', label='Class 2', ax=ax) # 在同一张图上\n",
    "\n"
   ]
  },
  {
   "cell_type": "code",
   "execution_count": null,
   "metadata": {},
   "outputs": [],
   "source": []
  }
 ],
 "metadata": {
  "kernelspec": {
   "display_name": "Python 3",
   "language": "python",
   "name": "python3"
  },
  "language_info": {
   "codemirror_mode": {
    "name": "ipython",
    "version": 3
   },
   "file_extension": ".py",
   "mimetype": "text/x-python",
   "name": "python",
   "nbconvert_exporter": "python",
   "pygments_lexer": "ipython3",
   "version": "3.6.7"
  },
  "toc": {
   "base_numbering": 1,
   "nav_menu": {},
   "number_sections": false,
   "sideBar": true,
   "skip_h1_title": false,
   "title_cell": "Table of Contents",
   "title_sidebar": "Contents",
   "toc_cell": false,
   "toc_position": {
    "height": "calc(100% - 180px)",
    "left": "10px",
    "top": "150px",
    "width": "180px"
   },
   "toc_section_display": true,
   "toc_window_display": true
  }
 },
 "nbformat": 4,
 "nbformat_minor": 1
}
