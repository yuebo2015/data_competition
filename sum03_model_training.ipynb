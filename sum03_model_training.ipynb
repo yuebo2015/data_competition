{
 "cells": [
  {
   "cell_type": "markdown",
   "metadata": {
    "collapsed": true
   },
   "source": [
    "模型训练解决的问题是：超参数固定时，模型参数的训练方法，针对超参数的选择时下一节“模型验证”中的问题。\n",
    "\n",
    "本小节接着上小节特征工程后的数据结果进行分析，上节结果已经存储为new_test_pca_16.csv、new_train_pca_16.csv，用这两个数据介绍常用算法的sklearn接口。"
   ]
  },
  {
   "cell_type": "markdown",
   "metadata": {},
   "source": [
    "# 数据准备"
   ]
  },
  {
   "cell_type": "markdown",
   "metadata": {},
   "source": [
    "导入相关库"
   ]
  },
  {
   "cell_type": "code",
   "execution_count": null,
   "metadata": {},
   "outputs": [],
   "source": [
    "import numpy as np\n",
    "import pandas as pd\n",
    "import matplotlib.pyplot as plt\n",
    "import seaborn as sns\n",
    "\n",
    "from scipy import stats\n",
    "\n",
    "import warnings\n",
    "warnings.filterwarnings(\"ignore\")\n",
    " \n",
    "%matplotlib inline\n",
    "\n",
    "from sklearn.linear_model import LinearRegression  #线性回归\n",
    "from sklearn.neighbors import KNeighborsRegressor  #K近邻回归\n",
    "from sklearn.tree import DecisionTreeRegressor     #决策树回归\n",
    "from sklearn.ensemble import RandomForestRegressor #随机森林回归\n",
    "from sklearn.svm import SVR  #支持向量回归\n",
    "import lightgbm as lgb #lightGbm模型\n",
    "\n",
    "from sklearn.model_selection import train_test_split # 切分数据\n",
    "from sklearn.metrics import mean_squared_error #评价指标\n",
    "\n",
    "from sklearn.model_selection import learning_curve\n",
    "from sklearn.model_selection import ShuffleSplit"
   ]
  },
  {
   "cell_type": "markdown",
   "metadata": {},
   "source": [
    "读取数据"
   ]
  },
  {
   "cell_type": "code",
   "execution_count": null,
   "metadata": {},
   "outputs": [],
   "source": [
    "train_data_file = \"./steam_data/new_train_pca_16.csv\"\n",
    "test_data_file =  \"./steam_data/new_test_pca_16.csv\"\n",
    "\n",
    "new_train_pca_16 = pd.read_csv(train_data_file, sep='\\t', encoding='utf-8')\n",
    "new_test_pca_16 = pd.read_csv(test_data_file, sep='\\t', encoding='utf-8')\n",
    "\n",
    "display(new_train_pca_16)"
   ]
  },
  {
   "cell_type": "markdown",
   "metadata": {},
   "source": [
    "# 模型学习曲线函数"
   ]
  },
  {
   "cell_type": "code",
   "execution_count": 176,
   "metadata": {},
   "outputs": [],
   "source": [
    "def plot_learning_curve(estimator, title, X, y, ylim=None, cv=None,\n",
    "                        n_jobs=1, train_sizes=np.linspace(.1, 1.0, 20)):\n",
    "    plt.figure()\n",
    "    plt.title(title)\n",
    "    if ylim is not None:\n",
    "        plt.ylim(*ylim)\n",
    "    plt.xlabel(\"Training examples\")\n",
    "    plt.ylabel(\"Score\")\n",
    "    train_sizes, train_scores, test_scores = learning_curve(\n",
    "        estimator, X, y, cv=cv, n_jobs=n_jobs, train_sizes=train_sizes)\n",
    "    train_scores_mean = np.mean(train_scores, axis=1)\n",
    "    train_scores_std = np.std(train_scores, axis=1)\n",
    "    test_scores_mean = np.mean(test_scores, axis=1)\n",
    "    test_scores_std = np.std(test_scores, axis=1)\n",
    "    \n",
    "    print(train_scores_mean)\n",
    "    print(test_scores_mean)\n",
    "    \n",
    "    plt.grid()\n",
    " \n",
    "    plt.fill_between(train_sizes, train_scores_mean - train_scores_std,\n",
    "                     train_scores_mean + train_scores_std, alpha=0.1,\n",
    "                     color=\"r\")\n",
    "    plt.fill_between(train_sizes, test_scores_mean - test_scores_std,\n",
    "                     test_scores_mean + test_scores_std, alpha=0.1, color=\"g\")\n",
    "    plt.plot(train_sizes, train_scores_mean, 'o-', color=\"r\",\n",
    "             label=\"Training score\")\n",
    "    plt.plot(train_sizes, test_scores_mean, 'o-', color=\"g\",\n",
    "             label=\"Cross-validation score\")\n",
    " \n",
    "    plt.legend(loc=\"best\")\n",
    "    return plt"
   ]
  },
  {
   "cell_type": "markdown",
   "metadata": {},
   "source": [
    "# 线性回归"
   ]
  },
  {
   "cell_type": "markdown",
   "metadata": {},
   "source": [
    "总体表现"
   ]
  },
  {
   "cell_type": "code",
   "execution_count": 175,
   "metadata": {},
   "outputs": [
    {
     "name": "stdout",
     "output_type": "stream",
     "text": [
      "LinearRegression:    0.30315923356898994 0.37560535148410845\n"
     ]
    }
   ],
   "source": [
    "#采用 pca 保留16维特征的数据\n",
    "new_train_pca_16 = new_train_pca_16.fillna(0)\n",
    "train = new_train_pca_16[new_test_pca_16.columns]\n",
    "target = new_train_pca_16['target']\n",
    "\n",
    "# 切分数据 训练数据80% 验证数据20%\n",
    "train_data,test_data,train_target,test_target=train_test_split(train,target,test_size=0.2,random_state=None, shuffle=True)\n",
    "\n",
    "\n",
    "clf = LinearRegression()\n",
    "clf.fit(train_data, train_target)\n",
    "train_score = mean_squared_error(train_target, clf.predict(train_data))\n",
    "test_score = mean_squared_error(test_target, clf.predict(test_data))\n",
    "print(\"LinearRegression:   \", train_score, test_score)"
   ]
  },
  {
   "cell_type": "markdown",
   "metadata": {},
   "source": [
    "学习曲线"
   ]
  },
  {
   "cell_type": "code",
   "execution_count": 177,
   "metadata": {},
   "outputs": [
    {
     "name": "stdout",
     "output_type": "stream",
     "text": [
      "[0.68305281 0.67236428 0.67115428 0.67168417 0.67457473 0.67782972\n",
      " 0.67407025 0.67181711 0.67205424 0.67561121 0.6737649  0.67018081\n",
      " 0.67166505 0.67259892 0.67361296 0.67317961 0.6727847  0.67102359\n",
      " 0.67084777 0.67026007]\n",
      "[0.62714192 0.65077282 0.66000591 0.66527386 0.66983502 0.67246146\n",
      " 0.67175483 0.67287184 0.67340416 0.67374023 0.67448012 0.6762262\n",
      " 0.67702576 0.67675905 0.67690356 0.67718343 0.67692734 0.67702113\n",
      " 0.67688846 0.67665818]\n"
     ]
    },
    {
     "data": {
      "text/plain": [
       "<module 'matplotlib.pyplot' from '/home/sike/anaconda3/envs/mxnet_true/lib/python3.6/site-packages/matplotlib/pyplot.py'>"
      ]
     },
     "execution_count": 177,
     "metadata": {},
     "output_type": "execute_result"
    },
    {
     "data": {
      "image/png": "[encoded data removed]",
      "text/plain": [
       "<Figure size 432x288 with 1 Axes>"
      ]
     },
     "metadata": {
      "needs_background": "light"
     },
     "output_type": "display_data"
    }
   ],
   "source": [
    "# 切分训练数据和线下验证数据\n",
    "X = train.values\n",
    "y = target.values\n",
    " \n",
    "# 图一\n",
    "title = r\"LinearRegression\"\n",
    "cv = ShuffleSplit(n_splits=10, test_size=0.2, random_state=None)\n",
    "estimator = LinearRegression()    #建模\n",
    "plot_learning_curve(estimator, title, X, y, ylim=(0.5, 0.8), cv=cv, n_jobs=-1)"
   ]
  },
  {
   "cell_type": "markdown",
   "metadata": {},
   "source": [
    "# K近邻回归"
   ]
  },
  {
   "cell_type": "markdown",
   "metadata": {},
   "source": [
    "总体表现"
   ]
  },
  {
   "cell_type": "code",
   "execution_count": 218,
   "metadata": {},
   "outputs": [
    {
     "name": "stdout",
     "output_type": "stream",
     "text": [
      "KNeighborsRegressor:    0.2393966373618934 0.3156493398302335\n"
     ]
    }
   ],
   "source": [
    "#采用 pca 保留16维特征的数据\n",
    "new_train_pca_16 = new_train_pca_16.fillna(0)\n",
    "train = new_train_pca_16[new_test_pca_16.columns]\n",
    "target = new_train_pca_16['target']\n",
    "\n",
    "# 切分数据 训练数据80% 验证数据20%\n",
    "train_data,test_data,train_target,test_target=train_test_split(train,target,test_size=0.2,random_state=None, shuffle=True)\n",
    "\n",
    "\n",
    "clf = KNeighborsRegressor(n_neighbors=8) # 最近三个\n",
    "clf.fit(train_data, train_target)\n",
    "train_score = mean_squared_error(train_target, clf.predict(train_data))\n",
    "test_score = mean_squared_error(test_target, clf.predict(test_data))\n",
    "print(\"KNeighborsRegressor:   \", train_score, score)"
   ]
  },
  {
   "cell_type": "markdown",
   "metadata": {},
   "source": [
    "学习曲线"
   ]
  },
  {
   "cell_type": "code",
   "execution_count": 221,
   "metadata": {},
   "outputs": [
    {
     "name": "stdout",
     "output_type": "stream",
     "text": [
      "[0.65817557 0.68152747 0.694179   0.70403892 0.70850225 0.71413134\n",
      " 0.7196759  0.72497523 0.72809137 0.731753   0.73503017 0.73783063\n",
      " 0.74025915 0.74274574 0.74513982 0.74728257 0.7488858  0.75001741\n",
      " 0.75213852 0.75336027]\n",
      "[0.56244629 0.58308181 0.59893259 0.61107414 0.61877702 0.62587136\n",
      " 0.63293411 0.63833175 0.64425049 0.64954041 0.65277765 0.65626508\n",
      " 0.658856   0.66253751 0.66478155 0.66661591 0.66826964 0.67098758\n",
      " 0.67323629 0.67488394]\n"
     ]
    },
    {
     "data": {
      "text/plain": [
       "<module 'matplotlib.pyplot' from '/home/sike/anaconda3/envs/mxnet_true/lib/python3.6/site-packages/matplotlib/pyplot.py'>"
      ]
     },
     "execution_count": 221,
     "metadata": {},
     "output_type": "execute_result"
    },
    {
     "data": {
      "image/png": "[encoded data removed]",
      "text/plain": [
       "<Figure size 432x288 with 1 Axes>"
      ]
     },
     "metadata": {
      "needs_background": "light"
     },
     "output_type": "display_data"
    }
   ],
   "source": [
    "X = train.values\n",
    "y = target.values\n",
    " \n",
    "# K近邻回归\n",
    "title = r\"KNeighborsRegressor\"\n",
    "cv = ShuffleSplit(n_splits=100, test_size=0.2, random_state=0)\n",
    "\n",
    "estimator = KNeighborsRegressor(n_neighbors=8)    #建模\n",
    "plot_learning_curve(estimator, title, X, y, ylim=(0.3, 0.9), cv=cv, n_jobs=-1)"
   ]
  },
  {
   "cell_type": "markdown",
   "metadata": {},
   "source": [
    "# 决策树回归"
   ]
  },
  {
   "cell_type": "markdown",
   "metadata": {},
   "source": [
    "总体表现"
   ]
  },
  {
   "cell_type": "code",
   "execution_count": 273,
   "metadata": {},
   "outputs": [
    {
     "name": "stdout",
     "output_type": "stream",
     "text": [
      "KNeighborsRegressor:    0.0 0.3156493398302335\n"
     ]
    }
   ],
   "source": [
    "#采用 pca 保留16维特征的数据\n",
    "new_train_pca_16 = new_train_pca_16.fillna(0)\n",
    "train = new_train_pca_16[new_test_pca_16.columns]\n",
    "target = new_train_pca_16['target']\n",
    "\n",
    "# 切分数据 训练数据80% 验证数据20%\n",
    "train_data,test_data,train_target,test_target=train_test_split(train,target,test_size=0.2,random_state=None, shuffle=True)\n",
    "\n",
    "\n",
    "clf = DecisionTreeRegressor() \n",
    "clf.fit(train_data, train_target)\n",
    "train_score = mean_squared_error(train_target, clf.predict(train_data))\n",
    "test_score = mean_squared_error(test_target, clf.predict(test_data))\n",
    "print(\"KNeighborsRegressor:   \", train_score, score)"
   ]
  },
  {
   "cell_type": "markdown",
   "metadata": {},
   "source": [
    "学习曲线"
   ]
  },
  {
   "cell_type": "code",
   "execution_count": 274,
   "metadata": {},
   "outputs": [
    {
     "name": "stdout",
     "output_type": "stream",
     "text": [
      "[1. 1. 1. 1. 1. 1. 1. 1. 1. 1. 1. 1. 1. 1. 1. 1. 1. 1. 1. 1.]\n",
      "[0.23091734 0.27459386 0.29077793 0.30622906 0.30246904 0.31485809\n",
      " 0.31903095 0.31063073 0.32729036 0.33301075 0.34002725 0.33837398\n",
      " 0.35809144 0.35896566 0.35419979 0.35971905 0.35426368 0.36223045\n",
      " 0.35123948 0.35699224]\n"
     ]
    },
    {
     "data": {
      "text/plain": [
       "<module 'matplotlib.pyplot' from '/home/sike/anaconda3/envs/mxnet_true/lib/python3.6/site-packages/matplotlib/pyplot.py'>"
      ]
     },
     "execution_count": 274,
     "metadata": {},
     "output_type": "execute_result"
    },
    {
     "data": {
      "image/png": "[encoded data removed]",
      "text/plain": [
       "<Figure size 432x288 with 1 Axes>"
      ]
     },
     "metadata": {
      "needs_background": "light"
     },
     "output_type": "display_data"
    }
   ],
   "source": [
    "X = train.values\n",
    "y = target.values\n",
    " \n",
    "# K近邻回归\n",
    "title = r\"DecisionTreeRegressor\"\n",
    "cv = ShuffleSplit(n_splits=100, test_size=0.2, random_state=0)\n",
    "\n",
    "estimator = DecisionTreeRegressor()    #建模\n",
    "plot_learning_curve(estimator, title, X, y, ylim=(0.1, 1.3), cv=cv, n_jobs=-1)"
   ]
  },
  {
   "cell_type": "markdown",
   "metadata": {},
   "source": [
    "# 随机森林回归"
   ]
  },
  {
   "cell_type": "markdown",
   "metadata": {},
   "source": [
    "总体表现"
   ]
  },
  {
   "cell_type": "code",
   "execution_count": 286,
   "metadata": {},
   "outputs": [
    {
     "name": "stdout",
     "output_type": "stream",
     "text": [
      "KNeighborsRegressor:    0.04073147783064338 0.3156493398302335\n"
     ]
    }
   ],
   "source": [
    "#采用 pca 保留16维特征的数据\n",
    "new_train_pca_16 = new_train_pca_16.fillna(0)\n",
    "train = new_train_pca_16[new_test_pca_16.columns]\n",
    "target = new_train_pca_16['target']\n",
    "\n",
    "# 切分数据 训练数据80% 验证数据20%\n",
    "train_data,test_data,train_target,test_target=train_test_split(train,target,test_size=0.2,random_state=None, shuffle=True)\n",
    "\n",
    "\n",
    "clf = RandomForestRegressor(n_estimators=200, n_jobs=-1) # 200棵树模型\n",
    "clf.fit(train_data, train_target)\n",
    "train_score = mean_squared_error(train_target, clf.predict(train_data))\n",
    "test_score = mean_squared_error(test_target, clf.predict(test_data))\n",
    "print(\"KNeighborsRegressor:   \", train_score, score)"
   ]
  },
  {
   "cell_type": "markdown",
   "metadata": {},
   "source": [
    "学习曲线"
   ]
  },
  {
   "cell_type": "code",
   "execution_count": 287,
   "metadata": {},
   "outputs": [
    {
     "name": "stdout",
     "output_type": "stream",
     "text": [
      "[0.94370018 0.94769907 0.94943264 0.95096913 0.95183423 0.95263147\n",
      " 0.95328231 0.9540855  0.95452554 0.95504677 0.95542633 0.95583356\n",
      " 0.95618288 0.95634077 0.95654962 0.95693003 0.95719364 0.9572942\n",
      " 0.95745547 0.95760855]\n",
      "[0.59983636 0.62099042 0.63490053 0.64422109 0.65125589 0.65659418\n",
      " 0.66132025 0.66481209 0.66823193 0.6713064  0.67397511 0.67640729\n",
      " 0.67888014 0.68148471 0.68346729 0.68549612 0.68682454 0.68822767\n",
      " 0.68912421 0.69089154]\n"
     ]
    },
    {
     "data": {
      "text/plain": [
       "<module 'matplotlib.pyplot' from '/home/sike/anaconda3/envs/mxnet_true/lib/python3.6/site-packages/matplotlib/pyplot.py'>"
      ]
     },
     "execution_count": 287,
     "metadata": {},
     "output_type": "execute_result"
    },
    {
     "data": {
      "image/png": "[encoded data removed]",
      "text/plain": [
       "<Figure size 432x288 with 1 Axes>"
      ]
     },
     "metadata": {
      "needs_background": "light"
     },
     "output_type": "display_data"
    }
   ],
   "source": [
    "X = train.values\n",
    "y = target.values\n",
    " \n",
    "# K近邻回归\n",
    "title = r\"RandomForestRegressor\"\n",
    "cv = ShuffleSplit(n_splits=100, test_size=0.2, random_state=0)\n",
    "\n",
    "estimator = RandomForestRegressor(n_estimators=200)    #建模\n",
    "plot_learning_curve(estimator, title, X, y, ylim=(0.1, 1.3), cv=cv, n_jobs=-1)"
   ]
  },
  {
   "cell_type": "markdown",
   "metadata": {},
   "source": [
    "# lgb模型回归"
   ]
  },
  {
   "cell_type": "markdown",
   "metadata": {},
   "source": [
    "总体表现"
   ]
  },
  {
   "cell_type": "code",
   "execution_count": 288,
   "metadata": {},
   "outputs": [
    {
     "name": "stdout",
     "output_type": "stream",
     "text": [
      "KNeighborsRegressor:    0.0005021410643809555 0.3156493398302335\n"
     ]
    }
   ],
   "source": [
    "#采用 pca 保留16维特征的数据\n",
    "new_train_pca_16 = new_train_pca_16.fillna(0)\n",
    "train = new_train_pca_16[new_test_pca_16.columns]\n",
    "target = new_train_pca_16['target']\n",
    "\n",
    "# 切分数据 训练数据80% 验证数据20%\n",
    "train_data,test_data,train_target,test_target=train_test_split(train,target,test_size=0.2,random_state=None, shuffle=True)\n",
    "\n",
    "\n",
    "# lgb回归模型\n",
    "clf = lgb.LGBMRegressor(\n",
    "        learning_rate=0.01,\n",
    "        max_depth=-1,\n",
    "        n_estimators=5000,\n",
    "        boosting_type='gbdt',\n",
    "        random_state=2019,\n",
    "        objective='regression',\n",
    "    )\n",
    "\n",
    "# 训练模型\n",
    "clf.fit(\n",
    "        X=train_data, y=train_target,\n",
    "        eval_metric='MSE',\n",
    "        verbose=50\n",
    "    )\n",
    "train_score = mean_squared_error(train_target, clf.predict(train_data))\n",
    "test_score = mean_squared_error(test_target, clf.predict(test_data))\n",
    "print(\"KNeighborsRegressor:   \", train_score, score)"
   ]
  },
  {
   "cell_type": "markdown",
   "metadata": {},
   "source": [
    "学习曲线"
   ]
  },
  {
   "cell_type": "code",
   "execution_count": 289,
   "metadata": {},
   "outputs": [
    {
     "name": "stdout",
     "output_type": "stream",
     "text": [
      "[0.59885541 0.62810913 0.64198231 0.65197041 0.65847237 0.66339557\n",
      " 0.66542187 0.66543207 0.66420344 0.66308203 0.66178197 0.65965424\n",
      " 0.65754479 0.65534044 0.65350218 0.65168757 0.64982832 0.64767091\n",
      " 0.64590572 0.64398853]\n",
      "[0.48493272 0.50728965 0.52089215 0.53059591 0.53628432 0.54200189\n",
      " 0.54678551 0.54978335 0.55241354 0.5529982  0.55564123 0.55720183\n",
      " 0.55822773 0.55936593 0.56046035 0.55932759 0.56174331 0.56153489\n",
      " 0.56241155 0.56268848]\n"
     ]
    },
    {
     "data": {
      "text/plain": [
       "<module 'matplotlib.pyplot' from '/home/sike/anaconda3/envs/mxnet_true/lib/python3.6/site-packages/matplotlib/pyplot.py'>"
      ]
     },
     "execution_count": 289,
     "metadata": {},
     "output_type": "execute_result"
    },
    {
     "data": {
      "image/png": "[encoded data removed]",
      "text/plain": [
       "<Figure size 432x288 with 1 Axes>"
      ]
     },
     "metadata": {
      "needs_background": "light"
     },
     "output_type": "display_data"
    }
   ],
   "source": [
    "X = train.values\n",
    "y = target.values\n",
    " \n",
    "title = r\"LGBMRegressor\"\n",
    "cv = ShuffleSplit(n_splits=100, test_size=0.2, random_state=0)\n",
    "\n",
    "estimator = lgb.LGBMRegressor(\n",
    "    learning_rate=0.01,\n",
    "    max_depth=-1,\n",
    "    n_estimators=100,\n",
    "    boosting_type='gbdt',\n",
    "    random_state=2019,\n",
    "    objective='regression'\n",
    "    ) \n",
    "\n",
    "plot_learning_curve(estimator, title, X, y, ylim=(0.1, 1.3), cv=cv, n_jobs=-1)"
   ]
  }
 ],
 "metadata": {
  "kernelspec": {
   "display_name": "Python 3",
   "language": "python",
   "name": "python3"
  },
  "language_info": {
   "codemirror_mode": {
    "name": "ipython",
    "version": 3
   },
   "file_extension": ".py",
   "mimetype": "text/x-python",
   "name": "python",
   "nbconvert_exporter": "python",
   "pygments_lexer": "ipython3",
   "version": "3.6.7"
  }
 },
 "nbformat": 4,
 "nbformat_minor": 1
}
